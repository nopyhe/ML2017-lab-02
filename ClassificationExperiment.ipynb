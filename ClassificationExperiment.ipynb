{
 "cells": [
  {
   "cell_type": "code",
   "execution_count": 1,
   "metadata": {
    "collapsed": true
   },
   "outputs": [],
   "source": [
    "import numpy as np\n",
    "from sklearn.datasets import load_svmlight_file\n",
    "from sklearn.model_selection import train_test_split\n",
    "import matplotlib.pyplot as plt\n",
    "import math\n",
    "%matplotlib inline"
   ]
  },
  {
   "cell_type": "code",
   "execution_count": 2,
   "metadata": {},
   "outputs": [
    {
     "name": "stdout",
     "output_type": "stream",
     "text": [
      "(123, 32561) (123, 16281) (1, 32561) (1, 16281)\n"
     ]
    }
   ],
   "source": [
    "# 加载数据集\n",
    "# data from https://www.csie.ntu.edu.tw/~cjlin/libsvmtools/datasets/binary.html#a9a\n",
    "X_train_orig,y_train_orig = load_svmlight_file('data/a9a')\n",
    "X_val_orig, y_val_orig = load_svmlight_file('data/a9a.t', n_features=123)\n",
    "\n",
    "# 转换为列向量\n",
    "X_train = X_train_orig.T.toarray()\n",
    "X_val = X_val_orig.T.toarray()\n",
    "y_train = np.reshape(y_train_orig,(1,y_train_orig.shape[0]))\n",
    "y_val = np.reshape(y_val_orig,(1,y_val_orig.shape[0]))\n",
    "# y_train[y_train<0]=0\n",
    "# y_val[y_val<0]=0\n",
    "print(X_train.shape,X_val.shape,y_train.shape,y_val.shape)"
   ]
  },
  {
   "cell_type": "code",
   "execution_count": 3,
   "metadata": {
    "collapsed": true
   },
   "outputs": [],
   "source": [
    "# 用零初始化参数\n",
    "def init_parameters_with_zeros(dim):\n",
    "    W = np.zeros((dim,1))\n",
    "    b = 0\n",
    "    return W,b"
   ]
  },
  {
   "cell_type": "code",
   "execution_count": 4,
   "metadata": {
    "collapsed": true
   },
   "outputs": [],
   "source": [
    "# 前向传播和反向传播\n",
    "def propagate(C,W,b,X,Y):\n",
    "    m = X.shape[1]\n",
    "\n",
    "    # 前向传播\n",
    "    A = np.dot(W.T,X)+b\n",
    "    \n",
    "    # 计算cost\n",
    "    cost = np.sum(np.square(W))/2 + C*np.sum(np.maximum(0,1-Y*(np.dot(W.T,X)+b)))/m\n",
    "    \n",
    "    # 反向传播\n",
    "    filt = (1-Y*(np.dot(W.T,X)+b))>0\n",
    "    gW = W - C*np.dot(Y*filt,X.T).T/m\n",
    "    gb = -C*np.sum(Y*filt*b)/m\n",
    "    return cost,gW,gb"
   ]
  },
  {
   "cell_type": "code",
   "execution_count": 5,
   "metadata": {
    "collapsed": true
   },
   "outputs": [],
   "source": [
    "def predict(W,b,X):\n",
    "    m = X.shape[1]\n",
    "    A = np.dot(W.T,X)+b\n",
    "    Y_prediction = np.zeros((1,m))\n",
    "    Y_prediction[A>=0]=1\n",
    "    Y_prediction[A<0]=-1\n",
    "    return Y_prediction"
   ]
  },
  {
   "cell_type": "code",
   "execution_count": 6,
   "metadata": {
    "collapsed": true
   },
   "outputs": [],
   "source": [
    "def random_batches(X,Y,batch_size):\n",
    "    m = X.shape[1]\n",
    "    \n",
    "    batches = []\n",
    "    \n",
    "    # 样本随机排列\n",
    "    permutation = np.random.permutation(m)\n",
    "    shuffled_X = X[:,permutation]\n",
    "    shuffled_Y = Y[:,permutation]\n",
    "\n",
    "    num_batches = math.floor(m/batch_size)\n",
    "    for i in range(num_batches):\n",
    "        batch_X = shuffled_X[:,i*batch_size:(i+1)*batch_size]\n",
    "        batch_Y = shuffled_Y[:,i*batch_size:(i+1)*batch_size]\n",
    "        \n",
    "        batch = (batch_X, batch_Y)\n",
    "        batches.append(batch)\n",
    "    \n",
    "    if m % batch_size != 0:\n",
    "        batch_X = shuffled_X[:,num_batches*batch_size:m]\n",
    "        batch_Y = shuffled_Y[:,num_batches*batch_size:m]\n",
    "        batch = (batch_X, batch_Y)\n",
    "        batches.append(batch)\n",
    "    \n",
    "    return batches\n",
    "    "
   ]
  },
  {
   "cell_type": "code",
   "execution_count": 7,
   "metadata": {
    "collapsed": true
   },
   "outputs": [],
   "source": [
    "def model(X_train, Y_train, X_val, Y_val, C=0.9, batch_size = 64, num_epochs = 200, max_num_iterations = None, learning_rate = 0.01, optimizer = \"GD\", print_cost = False,\n",
    "         decay_rate = 0.9):\n",
    "    \n",
    "    \n",
    "    eps = 1e-8\n",
    "    \n",
    "    beta = 0.9\n",
    "    \n",
    "    W_cache = 0\n",
    "    b_cache = 0\n",
    "    \n",
    "    delta_with_W = 0\n",
    "    delta_with_b = 0\n",
    "    delta_W = 0\n",
    "    delta_b = 0\n",
    "    \n",
    "    beta1 = 0.9\n",
    "    beta2 = 0.999\n",
    "    vgW = 0\n",
    "    sgW = 0\n",
    "    vgb = 0\n",
    "    sgb = 0\n",
    "    \n",
    "    # 保存训练集和验证集上的cost\n",
    "    train_cost_log = []\n",
    "    val_cost_log = []\n",
    "    train_accuracy_log = []\n",
    "    val_accuracy_log = []\n",
    "    \n",
    "    # 初始化参数\n",
    "    W,b = init_parameters_with_zeros(X_train.shape[0])\n",
    "    \n",
    "    \n",
    "    it = 0\n",
    "    for i in range(num_epochs):\n",
    "        if max_num_iterations and it>max_num_iterations:\n",
    "            break\n",
    "        batches = random_batches(X_train, Y_train, batch_size)\n",
    "        \n",
    "        # 计算验证集上的cost\n",
    "#         val_cost,_,_= propagate(C,W,b,X_val,Y_val)\n",
    "#         val_cost_log.append(val_cost)\n",
    "        \n",
    "        for batch in batches:\n",
    "            it+=1\n",
    "            if max_num_iterations and it>max_num_iterations:\n",
    "                break\n",
    "            (X_batch, Y_batch) = batch\n",
    "            \n",
    "    \n",
    "            # 进行前向传播、反向传播，计算cost和梯度\n",
    "            train_cost, gW, gb = propagate(C,W,b,X_batch,Y_batch)\n",
    "            val_cost,_,_= propagate(C,W,b,X_val,Y_val)\n",
    "\n",
    "            Y_batch_prediction = predict(W,b,X_batch)\n",
    "            Y_val_prediction = predict(W,b,X_val)\n",
    "            train_accuracy = 100 - np.mean(np.abs(Y_batch_prediction - Y_batch) / 2) * 100\n",
    "            val_accuracy = 100 - np.mean(np.abs(Y_val_prediction - Y_val) / 2) * 100\n",
    "\n",
    "            # 保存cost\n",
    "#             train_cost_log.append(train_cost)\n",
    "            val_cost_log.append(val_cost)\n",
    "#             train_accuracy_log.append(train_accuracy)\n",
    "            val_accuracy_log.append(val_accuracy)\n",
    "\n",
    "            # 更新参数\n",
    "            if optimizer is \"GD\": # Gradient Descent\n",
    "                W = W-learning_rate*gW\n",
    "                b = b-learning_rate*gb\n",
    "            elif optimizer is \"NAG\": # Nesterov Accelerated Gradient       \n",
    "                vgW_prev = vgW\n",
    "                vgW = beta * vgW - learning_rate * gW\n",
    "                W = W - beta * vgW_prev + (1+beta) * vgW\n",
    "                vgb_prev = vgb\n",
    "                vgb = beta * vgb - learning_rate * gb\n",
    "                b = b - beta * vgb_prev + (1+beta) * vgb\n",
    "                \n",
    "            elif optimizer is \"RMSProp\": # RMSProp\n",
    "                W_cache = decay_rate * W_cache + (1 - decay_rate) * gW**2\n",
    "                W = W - learning_rate * gW / (np.sqrt(W_cache) + eps)\n",
    "                b_cache = decay_rate * b_cache + (1 - decay_rate) * gb**2\n",
    "                b = b - learning_rate * gb / (np.sqrt(b_cache) + eps)\n",
    "\n",
    "            elif optimizer is \"AdaDelta\": # AdaDelta\n",
    "                W_cache = beta * W_cache + (1-beta) * gW**2\n",
    "                delta_W =  - np.sqrt(delta_with_W + eps)/(np.sqrt(W_cache)+eps) * gW\n",
    "                W = W + delta_W\n",
    "                delta_with_W = beta * delta_with_W + (1-beta)* delta_W ** 2\n",
    "                \n",
    "                b_cache = beta * b_cache + (1-beta) * gb**2\n",
    "                delta_b =  - np.sqrt(delta_with_b + eps)/(np.sqrt(b_cache)+eps) * gb\n",
    "                b = b + delta_b\n",
    "                delta_with_b = beta * delta_with_b + (1-beta)* delta_b ** 2\n",
    "                \n",
    "            elif optimizer is \"Adam\": # Adam\n",
    "                vgW = beta1*vgW + (1-beta1)*gW\n",
    "                sgW = beta2*sgW + (1-beta2)*(gW**2)\n",
    "                W = W - learning_rate * vgW / (np.sqrt(sgW) + eps)\n",
    "                vgb = beta1*vgb + (1-beta1)*gb\n",
    "                sgb = beta2*sgb + (1-beta2)*(gb**2)\n",
    "                b = b - learning_rate * vgb / (np.sqrt(sgb) + eps)\n",
    "\n",
    "        \n",
    "        if print_cost and i % 10 == 0:\n",
    "            print (\"After epoch %i, train cost: %f\" %(i, train_cost))\n",
    "\n",
    "    \n",
    "    return W,b,train_cost_log,val_cost_log,train_accuracy_log,val_accuracy_log"
   ]
  },
  {
   "cell_type": "code",
   "execution_count": 8,
   "metadata": {},
   "outputs": [
    {
     "name": "stdout",
     "output_type": "stream",
     "text": [
      "After epoch 0, train cost: 0.859456\n",
      "After epoch 10, train cost: 0.515984\n",
      "After epoch 20, train cost: 0.513539\n",
      "After epoch 30, train cost: 0.522351\n",
      "After epoch 40, train cost: 0.527461\n",
      "After epoch 50, train cost: 0.530432\n",
      "After epoch 0, train cost: 0.821430\n",
      "After epoch 10, train cost: 0.528232\n",
      "After epoch 20, train cost: 0.530510\n",
      "After epoch 30, train cost: 0.536629\n",
      "After epoch 40, train cost: 0.531460\n",
      "After epoch 50, train cost: 0.509745\n",
      "After epoch 0, train cost: 0.885509\n",
      "After epoch 10, train cost: 0.729161\n",
      "After epoch 20, train cost: 0.580633\n",
      "After epoch 30, train cost: 0.528931\n",
      "After epoch 40, train cost: 0.525369\n",
      "After epoch 50, train cost: 0.513520\n",
      "After epoch 0, train cost: 0.711853\n",
      "After epoch 10, train cost: 0.505460\n",
      "After epoch 20, train cost: 0.517113\n",
      "After epoch 30, train cost: 0.517048\n",
      "After epoch 40, train cost: 0.511647\n",
      "After epoch 50, train cost: 0.523324\n",
      "After epoch 0, train cost: 0.889520\n",
      "After epoch 10, train cost: 0.780659\n",
      "After epoch 20, train cost: 0.691949\n",
      "After epoch 30, train cost: 0.614373\n",
      "After epoch 40, train cost: 0.561914\n",
      "After epoch 50, train cost: 0.547534\n"
     ]
    }
   ],
   "source": [
    "num_epochs = 60\n",
    "batch_size = 4096\n",
    "_,_,_,loss_NAG,_,accuracy_NAG = model(X_train,y_train,X_val,y_val,num_epochs = num_epochs,batch_size=batch_size ,learning_rate = 0.001,optimizer = 'NAG',print_cost=True)\n",
    "_,_,_,loss_RMSProp,_,accuracy_RMSProp = model(X_train,y_train,X_val,y_val,num_epochs = num_epochs,batch_size=batch_size ,learning_rate = 0.001,optimizer = 'RMSProp',print_cost=True)\n",
    "_,_,_,loss_AdaDelta,_,accuracy_AdaDelta = model(X_train,y_train,X_val,y_val,num_epochs = num_epochs,batch_size=batch_size ,learning_rate = 0.001,optimizer = 'AdaDelta',print_cost=True)\n",
    "_,_,_,loss_Adam,_,accuracy_Adam = model(X_train,y_train,X_val,y_val,num_epochs = num_epochs,batch_size=batch_size ,learning_rate = 0.001,optimizer = 'Adam',print_cost=True)\n",
    "_,_,_,loss_GD,_,accuracy_GD = model(X_train,y_train,X_val,y_val,num_epochs = num_epochs,batch_size=batch_size ,learning_rate = 0.001,optimizer = 'GD',print_cost=True)"
   ]
  },
  {
   "cell_type": "code",
   "execution_count": 9,
   "metadata": {},
   "outputs": [
    {
     "data": {
      "image/png": "[encoded data removed]",
      "text/plain": [
       "<matplotlib.figure.Figure at 0x16cc265ccc0>"
      ]
     },
     "metadata": {},
     "output_type": "display_data"
    }
   ],
   "source": [
    "# 画图\n",
    "plt.plot(loss_NAG, label='NAG')\n",
    "plt.plot(loss_RMSProp, label='RMSProp')\n",
    "plt.plot(loss_AdaDelta, label='AdaDelta')\n",
    "plt.plot(loss_Adam, label='Adam')\n",
    "plt.plot(loss_GD, label='MBGD')\n",
    "\n",
    "\n",
    "plt.legend() # 图例\n",
    "# plt.axis([0,20,300,600])\n",
    "plt.ylabel('loss')\n",
    "plt.xlabel('iterations')\n",
    "# plt.yscale('log')\n",
    "plt.title('Linear Clasification')\n",
    "# plt.show()\n",
    "plt.savefig('report/linear_classification_loss_with_different_optimization_algorithm.eps', format='eps', dpi=1000)"
   ]
  },
  {
   "cell_type": "code",
   "execution_count": 10,
   "metadata": {},
   "outputs": [
    {
     "name": "stdout",
     "output_type": "stream",
     "text": [
      "After epoch 0, train cost: 0.085890\n",
      "After epoch 0, train cost: 0.097478\n",
      "After epoch 0, train cost: 0.105306\n",
      "After epoch 0, train cost: 0.288222\n"
     ]
    }
   ],
   "source": [
    "num_epochs = 800\n",
    "max_num_iterations = 200\n",
    "_,_,_,loss_batch_size_1,_,accuracy_batch_size_1 = model(X_train,y_train,X_val,y_val,num_epochs = num_epochs,max_num_iterations = max_num_iterations,batch_size=1 ,learning_rate = 0.01,optimizer = 'GD',print_cost=True)\n",
    "_,_,_,loss_batch_size_2,_,accuracy_batch_size_2 = model(X_train,y_train,X_val,y_val,num_epochs = num_epochs,max_num_iterations = max_num_iterations,batch_size=2 ,learning_rate = 0.01,optimizer = 'GD',print_cost=True)\n",
    "_,_,_,loss_batch_size_4,_,accuracy_batch_size_4 = model(X_train,y_train,X_val,y_val,num_epochs = num_epochs,max_num_iterations = max_num_iterations,batch_size=4 ,learning_rate = 0.01,optimizer = 'GD',print_cost=True)\n",
    "_,_,_,loss_batch_size_8,_,accuracy_batch_size_8 = model(X_train,y_train,X_val,y_val,num_epochs = num_epochs,max_num_iterations = max_num_iterations,batch_size=8 ,learning_rate = 0.01,optimizer = 'GD',print_cost=True)\n",
    "# _,_,_,loss_batch_size_16,_,accuracy_batch_size_16 = model(X_train,y_train,X_val,y_val,num_epochs = num_epochs,max_num_iterations = max_num_iterations,batch_size=16 ,learning_rate = 0.01,optimizer = 'GD',print_cost=True)\n",
    "# _,_,_,loss_batch_size_256,_,accuracy_batch_size_256 = model(X_train,y_train,X_val,y_val,num_epochs = num_epochs,max_num_iterations = max_num_iterations,batch_size=256,learning_rate = 0.01,optimizer = 'GD',print_cost=True)\n",
    "# _,_,_,loss_batch_size_4096,_,accuracy_batch_size_4096 = model(X_train,y_train,X_val,y_val,num_epochs = num_epochs,max_num_iterations = max_num_iterations,batch_size=4096 ,learning_rate = 0.01,optimizer = 'GD',print_cost=True)"
   ]
  },
  {
   "cell_type": "code",
   "execution_count": 11,
   "metadata": {},
   "outputs": [
    {
     "data": {
      "image/png": "[encoded data removed]",
      "text/plain": [
       "<matplotlib.figure.Figure at 0x16cc2af6e80>"
      ]
     },
     "metadata": {},
     "output_type": "display_data"
    }
   ],
   "source": [
    "plt.plot(loss_batch_size_1, label='1')\n",
    "plt.plot(loss_batch_size_2, label='2')\n",
    "plt.plot(loss_batch_size_4 , label='4')\n",
    "plt.plot(loss_batch_size_8, label='8')\n",
    "# plt.plot(loss_batch_size_16, label='16')\n",
    "# plt.plot(loss_batch_size_256, label='256')\n",
    "# plt.plot(loss_batch_size_4096, label='4096')\n",
    "# plt.plot(GD_loss, label='MGD')\n",
    "# plt.plot(val_loss_log,'b', label = 'validation set')\n",
    "\n",
    "\n",
    "plt.legend(title='batch_size') # 图例\n",
    "# plt.axis([0,200,0.5,0.9])\n",
    "plt.ylabel('loss')\n",
    "plt.xlabel('iterations')\n",
    "# plt.yscale('log')\n",
    "plt.title('Linear Clasification with MBGD')\n",
    "# plt.show()\n",
    "plt.savefig('report/linear_classification_loss_with_different_batch_size.eps', format='eps', dpi=1000)"
   ]
  }
 ],
 "metadata": {
  "kernelspec": {
   "display_name": "Python 3",
   "language": "python",
   "name": "python3"
  },
  "language_info": {
   "codemirror_mode": {
    "name": "ipython",
    "version": 3
   },
   "file_extension": ".py",
   "mimetype": "text/x-python",
   "name": "python",
   "nbconvert_exporter": "python",
   "pygments_lexer": "ipython3",
   "version": "3.6.1"
  }
 },
 "nbformat": 4,
 "nbformat_minor": 2
}
