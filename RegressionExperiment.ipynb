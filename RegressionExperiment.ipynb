{
 "cells": [
  {
   "cell_type": "code",
   "execution_count": 3,
   "metadata": {
    "collapsed": true
   },
   "outputs": [],
   "source": [
    "import numpy as np\n",
    "from sklearn.datasets import load_svmlight_file\n",
    "from sklearn.model_selection import train_test_split\n",
    "import matplotlib.pyplot as plt\n",
    "import math\n",
    "%matplotlib inline"
   ]
  },
  {
   "cell_type": "code",
   "execution_count": 4,
   "metadata": {},
   "outputs": [
    {
     "name": "stdout",
     "output_type": "stream",
     "text": [
      "(123, 32561) (123, 16281) (1, 32561) (1, 16281)\n"
     ]
    }
   ],
   "source": [
    "# 加载数据集\n",
    "# data from https://www.csie.ntu.edu.tw/~cjlin/libsvmtools/datasets/binary.html#a9a\n",
    "X_train_orig,y_train_orig = load_svmlight_file('data/a9a')\n",
    "X_val_orig, y_val_orig = load_svmlight_file('data/a9a.t', n_features=123)\n",
    "\n",
    "# 转换为列向量\n",
    "X_train = X_train_orig.T.toarray()\n",
    "X_val = X_val_orig.T.toarray()\n",
    "y_train = np.reshape(y_train_orig,(1,y_train_orig.shape[0]))\n",
    "y_val = np.reshape(y_val_orig,(1,y_val_orig.shape[0]))\n",
    "y_train[y_train<0]=0\n",
    "y_val[y_val<0]=0\n",
    "print(X_train.shape,X_val.shape,y_train.shape,y_val.shape)"
   ]
  },
  {
   "cell_type": "code",
   "execution_count": 5,
   "metadata": {
    "collapsed": true
   },
   "outputs": [],
   "source": [
    "# 用零初始化参数\n",
    "def init_parameters_with_zeros(dim):\n",
    "    W = np.zeros((dim,1))\n",
    "    b = 0\n",
    "    return W,b"
   ]
  },
  {
   "cell_type": "code",
   "execution_count": 6,
   "metadata": {
    "collapsed": true
   },
   "outputs": [],
   "source": [
    "# sigmoid 函数\n",
    "def sigmoid(z):\n",
    "    s = 1/(1+np.exp(-z))\n",
    "    return s"
   ]
  },
  {
   "cell_type": "code",
   "execution_count": 7,
   "metadata": {
    "collapsed": true
   },
   "outputs": [],
   "source": [
    "# 前向传播和反向传播\n",
    "def propagate(W,b,X,Y):\n",
    "    m = X.shape[1]\n",
    "\n",
    "    # 前向传播\n",
    "    A = sigmoid(np.dot(W.T,X)+b)\n",
    "    # 计算cost\n",
    "    cost = (np.dot(Y,np.log(A).T)+np.dot((1-Y),np.log(1-A).T))/(-m)\n",
    "    \n",
    "    # 反向传播\n",
    "    dW = np.dot(X,(A-Y).T)/m  \n",
    "    db = np.sum(A-Y)/m\n",
    "    \n",
    "    cost = np.squeeze(cost)\n",
    "    return cost,dW,db"
   ]
  },
  {
   "cell_type": "code",
   "execution_count": 8,
   "metadata": {
    "collapsed": true
   },
   "outputs": [],
   "source": [
    "def predict(W,b,X):\n",
    "    m = X.shape[1]\n",
    "    A = sigmoid(np.dot(W.T,X)+b)\n",
    "    Y_prediction = np.zeros((1,m))\n",
    "    Y_prediction[A>=0.5]=1\n",
    "#     Y_prediction[A<0.5]=0\n",
    "#     print(A)\n",
    "    return Y_prediction"
   ]
  },
  {
   "cell_type": "code",
   "execution_count": 9,
   "metadata": {
    "collapsed": true
   },
   "outputs": [],
   "source": [
    "def random_batches(X,Y,batch_size):\n",
    "    m = X.shape[1]\n",
    "    \n",
    "    batches = []\n",
    "    \n",
    "    # 样本随机排列\n",
    "    permutation = np.random.permutation(m)\n",
    "    shuffled_X = X[:,permutation]\n",
    "    shuffled_Y = Y[:,permutation]\n",
    "\n",
    "    \n",
    "    num_batches = math.floor(m/batch_size)\n",
    "    for i in range(num_batches):\n",
    "        batch_X = shuffled_X[:,i*batch_size:(i+1)*batch_size]\n",
    "        batch_Y = shuffled_Y[:,i*batch_size:(i+1)*batch_size]\n",
    "        \n",
    "        batch = (batch_X, batch_Y)\n",
    "        batches.append(batch)\n",
    "    \n",
    "    if m % batch_size != 0:\n",
    "        batch_X = shuffled_X[:,num_batches*batch_size:m]\n",
    "        batch_Y = shuffled_Y[:,num_batches*batch_size:m]\n",
    "        batch = (batch_X, batch_Y)\n",
    "        batches.append(batch)\n",
    "    \n",
    "    return batches\n",
    "    "
   ]
  },
  {
   "cell_type": "code",
   "execution_count": 10,
   "metadata": {
    "collapsed": true
   },
   "outputs": [],
   "source": [
    "def model(X_train, Y_train, X_val, Y_val, batch_size = 64, num_epochs = 200, learning_rate = 0.01, optimizer = \"GD\", print_cost = False,\n",
    "         decay_rate = 0.9):\n",
    "    \n",
    "    \n",
    "    eps = 1e-8\n",
    "    \n",
    "    \n",
    "    # for NAG\n",
    "    beta = 0.9\n",
    "    \n",
    "    \n",
    "    # for RMSProp\n",
    "    W_cache = 0\n",
    "    b_cache = 0\n",
    "    \n",
    "    # for AdaDelta\n",
    "    delta_with_W = 0\n",
    "    delta_with_b = 0\n",
    "    delta_W = 0\n",
    "    delta_b = 0\n",
    "    \n",
    "    # for Adam\n",
    "    beta1 = 0.9\n",
    "    beta2 = 0.999\n",
    "    vdW = 0\n",
    "    sdW = 0\n",
    "    vdb = 0\n",
    "    sdb = 0\n",
    "    \n",
    "    # 保存训练集和验证集上的cost\n",
    "    train_cost_log = []\n",
    "    val_cost_log = []\n",
    "    \n",
    "    # 初始化参数\n",
    "    W,b = init_parameters_with_zeros(X_train.shape[0])\n",
    "    \n",
    "    \n",
    "    \n",
    "    for i in range(num_epochs):\n",
    "        \n",
    "        batches = random_batches(X_train, Y_train, batch_size)\n",
    "        \n",
    "#         # 计算验证集上的cost\n",
    "#         val_cost,_,_= propagate(W,b,X_val,Y_val)\n",
    "#         val_cost_log.append(val_cost)\n",
    "        \n",
    "        for batch in batches:\n",
    "            (X_batch, Y_batch) = batch\n",
    "            \n",
    "    \n",
    "            # 进行前向传播、反向传播，计算cost和梯度\n",
    "            train_cost, dW, db = propagate(W,b,X_batch,Y_batch)\n",
    "            val_cost,_,_= propagate(W,b,X_val,Y_val)\n",
    "\n",
    "#             Y_train_prediction = predict(W,b,X_train)\n",
    "#             Y_val_prediction = predict(W,b,X_val)\n",
    "\n",
    "            # 保存cost\n",
    "#             train_cost_log.append(train_cost)\n",
    "            val_cost_log.append(val_cost)\n",
    "\n",
    "            # 更新参数\n",
    "            if optimizer is \"GD\": # Gradient Descent\n",
    "                W = W-learning_rate*dW\n",
    "                b = b-learning_rate*db\n",
    "            elif optimizer is \"NAG\": # Nesterov Accelerated Gradient\n",
    "#                 x_ahead = x + mu * v\n",
    "#                 # evaluate dx_ahead (the gradient at x_ahead instead of at x)\n",
    "#                 v = mu * v - learning_rate * dx_ahead\n",
    "#                 x += v\n",
    "                \n",
    "#                 _,dW,_ =propagate(W+beta*vdW,b,X_batch,Y_batch)\n",
    "#                 vdW = beta * vdW + learning_rate * dW\n",
    "#                 W = W - vdW\n",
    "                \n",
    "#                 _,_,db =propagate(W,b + beta*vdb,X_batch,Y_batch)\n",
    "#                 vb = beta * vdb + learning_rate * db\n",
    "#                 b = b - vdb\n",
    "                \n",
    "                \n",
    "                vdW_prev = vdW\n",
    "                vdW = beta * vdW - learning_rate * dW\n",
    "                W = W - beta * vdW_prev + (1+beta) * vdW\n",
    "                vdb_prev = vdb\n",
    "                vdb = beta * vdb - learning_rate * db\n",
    "                b = b - beta * vdb_prev + (1+beta) * vdb\n",
    "\n",
    "    #             v_prev = v # back this up\n",
    "    #             v = mu * v - learning_rate * dx # velocity update stays the same\n",
    "    #             x += -mu * v_prev + (1 + mu) * v # position update changes form\n",
    "\n",
    "                \n",
    "            elif optimizer is \"RMSProp\": # RMSProp\n",
    "                W_cache = decay_rate * W_cache + (1 - decay_rate) * dW**2\n",
    "                W = W - learning_rate * dW / (np.sqrt(W_cache) + eps)\n",
    "                b_cache = decay_rate * b_cache + (1 - decay_rate) * db**2\n",
    "                b = b - learning_rate * db / (np.sqrt(b_cache) + eps)\n",
    "\n",
    "            elif optimizer is \"AdaDelta\": # AdaDelta\n",
    "                W_cache = beta * W_cache + (1-beta) * dW**2\n",
    "                delta_W =  - np.sqrt(delta_with_W + eps)/np.sqrt(W_cache+eps) * dW\n",
    "                W = W + delta_W\n",
    "                delta_with_W = beta * delta_with_W + (1-beta)* delta_W ** 2\n",
    "                \n",
    "                b_cache = beta * b_cache + (1-beta) * db**2\n",
    "                delta_b =  - np.sqrt(delta_with_b + eps)/np.sqrt(b_cache+eps) * db\n",
    "                b = b + delta_b\n",
    "                delta_with_b = beta * delta_with_b + (1-beta)* delta_b ** 2\n",
    "                \n",
    "            elif optimizer is \"Adam\": # Adam\n",
    "                vdW = beta1*vdW + (1-beta1)*dW\n",
    "                sdW = beta2*sdW + (1-beta2)*(dW**2)\n",
    "                W = W - learning_rate * vdW / (np.sqrt(sdW) + eps)\n",
    "                vdb = beta1*vdb + (1-beta1)*db\n",
    "                sdb = beta2*sdb + (1-beta2)*(db**2)\n",
    "                b = b - learning_rate * vdb / (np.sqrt(sdb) + eps)\n",
    "\n",
    "        \n",
    "        if print_cost and i % 100 == 0:\n",
    "            print (\"After epoch %i, train cost: %f\" %(i, train_cost))\n",
    "\n",
    "    \n",
    "    return W,b,train_cost_log,val_cost_log"
   ]
  },
  {
   "cell_type": "markdown",
   "metadata": {},
   "source": [
    "![x](https://blog.slinuxer.com/wp-content/ql-cache/quicklatex.com-7d545539b0c4840b7c594b98c9233186_l3.svg)"
   ]
  },
  {
   "cell_type": "code",
   "execution_count": 11,
   "metadata": {},
   "outputs": [
    {
     "name": "stdout",
     "output_type": "stream",
     "text": [
      "After epoch 0, train cost: 0.598450\n",
      "After epoch 100, train cost: 0.343759\n",
      "After epoch 0, train cost: 0.579796\n",
      "After epoch 100, train cost: 0.331014\n",
      "After epoch 0, train cost: 0.653011\n",
      "After epoch 100, train cost: 0.325905\n",
      "After epoch 0, train cost: 0.455951\n",
      "After epoch 100, train cost: 0.316188\n",
      "After epoch 0, train cost: 0.677651\n",
      "After epoch 100, train cost: 0.446112\n"
     ]
    }
   ],
   "source": [
    "num_epochs = 150\n",
    "batch_size = 1024\n",
    "_,_,_,NAG_loss = model(X_train,y_train,X_val,y_val,num_epochs = num_epochs,batch_size=batch_size ,learning_rate = 0.001,optimizer = 'NAG',print_cost=True)\n",
    "_,_,_,RMSProp_loss = model(X_train,y_train,X_val,y_val,num_epochs = num_epochs,batch_size=batch_size ,learning_rate = 0.001,optimizer = 'RMSProp',print_cost=True)\n",
    "_,_,_,AdaDelta_loss = model(X_train,y_train,X_val,y_val,num_epochs = num_epochs,batch_size=batch_size ,learning_rate = 0.001,optimizer = 'AdaDelta',print_cost=True)\n",
    "_,_,_,Adam_loss = model(X_train,y_train,X_val,y_val,num_epochs = num_epochs,batch_size=batch_size ,learning_rate = 0.001,optimizer = 'Adam',print_cost=True)\n",
    "_,_,_,GD_loss = model(X_train,y_train,X_val,y_val,num_epochs = num_epochs,batch_size=batch_size ,learning_rate = 0.001,optimizer = 'GD',print_cost=True)"
   ]
  },
  {
   "cell_type": "code",
   "execution_count": 13,
   "metadata": {},
   "outputs": [
    {
     "data": {
      "image/png": "[encoded data removed]",
      "text/plain": [
       "<matplotlib.figure.Figure at 0x7f66f0a15860>"
      ]
     },
     "metadata": {},
     "output_type": "display_data"
    }
   ],
   "source": [
    "# 画图\n",
    "\n",
    "plt.plot(NAG_loss, label='NAG')\n",
    "plt.plot(RMSProp_loss, label='RMSProp')\n",
    "plt.plot(AdaDelta_loss, label='AdaDelta')\n",
    "plt.plot(Adam_loss, label='Adam')\n",
    "\n",
    "plt.plot(GD_loss, label='GD')\n",
    "# plt.plot(val_loss_log,'b', label = 'validation set')\n",
    "\n",
    "\n",
    "plt.legend() # 图例\n",
    "# plt.axis([0,10,0.3,0.5])\n",
    "plt.ylabel('loss')\n",
    "plt.xlabel('iterations')\n",
    "plt.title('Linear Regression')\n",
    "plt.show()"
   ]
  },
  {
   "cell_type": "code",
   "execution_count": null,
   "metadata": {
    "collapsed": true
   },
   "outputs": [],
   "source": []
  },
  {
   "cell_type": "code",
   "execution_count": null,
   "metadata": {
    "collapsed": true
   },
   "outputs": [],
   "source": []
  }
 ],
 "metadata": {
  "kernelspec": {
   "display_name": "Python 3",
   "language": "python",
   "name": "python3"
  },
  "language_info": {
   "codemirror_mode": {
    "name": "ipython",
    "version": 3
   },
   "file_extension": ".py",
   "mimetype": "text/x-python",
   "name": "python",
   "nbconvert_exporter": "python",
   "pygments_lexer": "ipython3",
   "version": "3.5.2"
  }
 },
 "nbformat": 4,
 "nbformat_minor": 2
}
